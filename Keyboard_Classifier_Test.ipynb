{
 "cells": [
  {
   "cell_type": "code",
   "execution_count": 2,
   "metadata": {
    "executionInfo": {
     "elapsed": 893,
     "status": "ok",
     "timestamp": 1739277341026,
     "user": {
      "displayName": "Arin Mukhopadhyay",
      "userId": "03266516936147208056"
     },
     "user_tz": -330
    },
    "id": "BwEK6b9T1-Vl"
   },
   "outputs": [],
   "source": [
    "import cv2\n",
    "import cupy as cp\n",
    "import numpy as np\n",
    "import requests\n",
    "from PIL import Image, ImageDraw\n",
    "import os"
   ]
  },
  {
   "cell_type": "code",
   "execution_count": 3,
   "metadata": {},
   "outputs": [
    {
     "name": "stdout",
     "output_type": "stream",
     "text": [
      "CuPy is using CUDA.\n",
      "Number of available GPUs: 1\n"
     ]
    }
   ],
   "source": [
    "# Check for CUDA availability\n",
    "if cp.is_available():\n",
    "    print(\"CuPy is using CUDA.\")\n",
    "    print(\"Number of available GPUs:\", cp.cuda.runtime.getDeviceCount())\n",
    "else:\n",
    "    print(\"CuPy is not using CUDA.\")"
   ]
  },
  {
   "cell_type": "code",
   "execution_count": 4,
   "metadata": {
    "executionInfo": {
     "elapsed": 11,
     "status": "ok",
     "timestamp": 1739277341031,
     "user": {
      "displayName": "Arin Mukhopadhyay",
      "userId": "03266516936147208056"
     },
     "user_tz": -330
    },
    "id": "oeLyl0bV34wx"
   },
   "outputs": [],
   "source": [
    "BASE_URL = \"http://sdp.sdpgroup62025.workers.dev\"\n",
    "\n",
    "PREDICT_URL = BASE_URL + \"/predict\"\n",
    "RESULTS_URL = BASE_URL + \"/results\"\n",
    "\n",
    "KEYBOARD_THRESHOLD = 0.50"
   ]
  },
  {
   "cell_type": "code",
   "execution_count": 5,
   "metadata": {
    "executionInfo": {
     "elapsed": 3,
     "status": "ok",
     "timestamp": 1739277365501,
     "user": {
      "displayName": "Arin Mukhopadhyay",
      "userId": "03266516936147208056"
     },
     "user_tz": -330
    },
    "id": "_CWM7S5E8Zia"
   },
   "outputs": [],
   "source": [
    "def predict_image(path):\n",
    "\n",
    "    # Get the image data from the path\n",
    "    with open(path, \"rb\") as image_file:\n",
    "        image_data = image_file.read()\n",
    "\n",
    "    # The headers for the request\n",
    "    headers = {\n",
    "        \"Content-Type\": \"image/jpeg\",\n",
    "    }\n",
    "\n",
    "    # Make a POST request to the server\n",
    "    response = requests.post(PREDICT_URL, headers=headers, data=image_data)\n",
    "\n",
    "    # Check if the request was successful\n",
    "    if response.status_code != 200:\n",
    "        raise Exception(\"The request failed with status code: \" + str(response.status_code))\n",
    "\n",
    "    # Return the response\n",
    "    return response.json()"
   ]
  },
  {
   "cell_type": "code",
   "execution_count": 6,
   "metadata": {
    "executionInfo": {
     "elapsed": 85,
     "status": "ok",
     "timestamp": 1739277365589,
     "user": {
      "displayName": "Arin Mukhopadhyay",
      "userId": "03266516936147208056"
     },
     "user_tz": -330
    },
    "id": "U2l5IKlt2Iq1"
   },
   "outputs": [],
   "source": [
    "def extract_keyboard_and_detect_edges(path, predictions):\n",
    "    image = cv2.imread(path)\n",
    "    if image is None:\n",
    "        raise FileNotFoundError(f\"Unable to load image at path: {path}\")\n",
    "\n",
    "    results = predictions['predictions']['result']\n",
    "    # print(\"Results\", results)\n",
    "\n",
    "    keyboards_data = {}\n",
    "\n",
    "    for result in results:\n",
    "\n",
    "        if result['label'] == 'keyboard' and result['score'] >= KEYBOARD_THRESHOLD:\n",
    "\n",
    "            keyboard_bounding_box = result['box']\n",
    "\n",
    "            # print(\"Keyboard bounding box\", keyboard_bounding_box)\n",
    "\n",
    "            if keyboard_bounding_box is None:\n",
    "                raise ValueError(\"No keyboard bounding box found.\")\n",
    "\n",
    "            image_height, image_width = image.shape[:2]\n",
    "\n",
    "            # print(\"Image height\", image_height)\n",
    "            # print(\"Image width\", image_width)\n",
    "\n",
    "            xmin = keyboard_bounding_box['xmin']\n",
    "            ymin = keyboard_bounding_box['ymin']\n",
    "            xmax = keyboard_bounding_box['xmax']\n",
    "            ymax = keyboard_bounding_box['ymax']\n",
    "\n",
    "            if xmin < 0 or xmax >= image_width or ymin < 0 or ymax >= image_height or xmax <= xmin or ymax <= ymin:\n",
    "                # Region is not fully contained within image boundaries, skip it\n",
    "                continue\n",
    "\n",
    "            keyboard_region = image[ymin : ymax, xmin : xmax]\n",
    "\n",
    "            edges = cv2.Canny(keyboard_region, 100, 200)\n",
    "            if edges is None or edges.size == 0:\n",
    "                raise ValueError(\"Edge detection failed or returned empty results.\")\n",
    "\n",
    "            # Ensure edges is a 2D image\n",
    "            if edges.ndim == 3:\n",
    "                edges = edges[:, :, 0]\n",
    "\n",
    "            if edges.dtype != np.uint8:\n",
    "                edges = edges.astype(np.uint8)\n",
    "\n",
    "            # Ensure edges is not empty\n",
    "            if edges.size == 0:\n",
    "                raise ValueError(\"No edges to process.\")\n",
    "\n",
    "            # Find contours of the edges\n",
    "            contours, _ = cv2.findContours(edges, cv2.RETR_EXTERNAL, cv2.CHAIN_APPROX_SIMPLE)\n",
    "\n",
    "            all_points = []\n",
    "\n",
    "            for contour in contours:\n",
    "                contour = np.array(contour, dtype=int)\n",
    "\n",
    "                # Ensure contour has at least 2 points before drawing\n",
    "                if len(contour) >= 2:\n",
    "                    dx = xmin  # Horizontal translation to move the contour to inside the bounding box\n",
    "                    dy = ymin  # Vertical translation to move the contour to inside the bounding box\n",
    "\n",
    "                    # Translate the contour points by (dx, dy)\n",
    "                    translated_contour = contour + [dx, dy]\n",
    "\n",
    "                    # Convert the translated contour to a list of points\n",
    "                    points = [tuple(p) for p in translated_contour[:, 0]]\n",
    "                    all_points.append(points)\n",
    "\n",
    "            keyboards_data[len(keyboards_data) + 1] = {\n",
    "                \"keyboard_bounding_box\": keyboard_bounding_box,\n",
    "                \"edges\": edges,\n",
    "                \"all_points\": all_points\n",
    "            }\n",
    "\n",
    "    if len(keyboards_data) == 0:\n",
    "        print(f\"No Keyboards detected at {path}\")\n",
    "        \n",
    "    if len(keyboards_data) != 0:\n",
    "        print(keyboards_data[1][\"keyboard_bounding_box\"])\n",
    "\n",
    "    return keyboards_data"
   ]
  },
  {
   "cell_type": "code",
   "execution_count": 7,
   "metadata": {
    "executionInfo": {
     "elapsed": 18,
     "status": "ok",
     "timestamp": 1739277365591,
     "user": {
      "displayName": "Arin Mukhopadhyay",
      "userId": "03266516936147208056"
     },
     "user_tz": -330
    },
    "id": "ZBw-AZCu2tw2"
   },
   "outputs": [],
   "source": [
    "def draw_keyboard_bounding_box_on_image(image_path, keyboards_data, output_path):\n",
    "    # Load the original image and convert to a NumPy array\n",
    "    image = Image.open(image_path)\n",
    "    image_array = np.array(image)\n",
    "\n",
    "    # Move image array to GPU using CuPy\n",
    "    image_gpu = cp.asarray(image_array)\n",
    "\n",
    "    # Convert to BGR format for OpenCV (PIL uses RGB, OpenCV uses BGR)\n",
    "    image_gpu = image_gpu[:, :, ::-1]\n",
    "\n",
    "    # Create a blank white image on GPU\n",
    "    height, width, _ = image_gpu.shape\n",
    "    blank_image_gpu = cp.ones((height, width, 3), dtype=cp.uint8) * 255\n",
    "\n",
    "    # Convert blank image to NumPy array before using OpenCV drawing functions\n",
    "    blank_image_cpu = cp.asnumpy(blank_image_gpu)\n",
    "\n",
    "    # Draw bounding boxes and polygons on the CPU array using OpenCV\n",
    "    for keyboard_id, keyboard_data in keyboards_data.items():\n",
    "        keyboard_bounding_box = keyboard_data['keyboard_bounding_box']\n",
    "        all_points = keyboard_data['all_points']\n",
    "\n",
    "        # Get bounding box coordinates\n",
    "        x_min = keyboard_bounding_box['xmin']\n",
    "        y_min = keyboard_bounding_box['ymin']\n",
    "        x_max = keyboard_bounding_box['xmax']\n",
    "        y_max = keyboard_bounding_box['ymax']\n",
    "\n",
    "        # Draw the bounding box on the image\n",
    "        cv2.rectangle(blank_image_cpu, (x_min, y_min), (x_max, y_max), (255, 0, 0), 3)\n",
    "\n",
    "        # Draw each contour (polygon) on the image\n",
    "        for points in all_points:\n",
    "            points_array = np.array(points, dtype=np.int32).reshape((-1, 1, 2))\n",
    "            cv2.polylines(blank_image_cpu, [points_array], isClosed=True, color=(0, 0, 255), thickness=3)\n",
    "\n",
    "    # Move the final result back to GPU for any further processing\n",
    "    blank_image_gpu = cp.asarray(blank_image_cpu)\n",
    "\n",
    "    # Convert the final image back to RGB format and save\n",
    "    result_image_rgb = cp.asnumpy(blank_image_gpu)[:, :, ::-1]  # Convert BGR back to RGB\n",
    "    output_image = Image.fromarray(result_image_rgb)\n",
    "    output_image.save(output_path)\n",
    "\n",
    "    print(f\"Saved keyboard bounding box image to {output_path}\")"
   ]
  },
  {
   "cell_type": "code",
   "execution_count": 8,
   "metadata": {
    "executionInfo": {
     "elapsed": 6,
     "status": "ok",
     "timestamp": 1739277365593,
     "user": {
      "displayName": "Arin Mukhopadhyay",
      "userId": "03266516936147208056"
     },
     "user_tz": -330
    },
    "id": "KqZ48Ksc6TkK"
   },
   "outputs": [],
   "source": [
    "input_folder_path = \"/home/tan90/SDP/Images\""
   ]
  },
  {
   "cell_type": "code",
   "execution_count": 9,
   "metadata": {
    "colab": {
     "base_uri": "https://localhost:8080/"
    },
    "executionInfo": {
     "elapsed": 668,
     "status": "ok",
     "timestamp": 1739277366256,
     "user": {
      "displayName": "Arin Mukhopadhyay",
      "userId": "03266516936147208056"
     },
     "user_tz": -330
    },
    "id": "Gp3GLyLC7nkn",
    "outputId": "f8271a5a-0551-41ef-b9c1-1a645b393580"
   },
   "outputs": [
    {
     "name": "stdout",
     "output_type": "stream",
     "text": [
      "['Input_018.jpg', 'Input_072.jpg', 'Input_033.jpg', 'Input_084.jpg', 'Input_032.jpg', 'Input_028.jpg', 'Input_046.jpg', 'Input_042.jpg', 'Input_076.jpg', 'Input_031.jpg', 'Input_047.jpg', 'Input_048.jpg', 'Input_079.jpg', 'Input_081.jpg', 'Input_005.jpg', 'Input_010.jpg', 'Input_011.jpg', 'Input_034.jpg', 'Input_070.jpg', 'Input_050.jpg', 'Input_060.jpg', 'Input_049.jpg', 'Input_020.jpg', 'Input_074.jpg', 'Input_015.jpg', 'Input_055.jpg', 'Input_003.jpg', 'Input_063.jpg', 'Input_069.jpg', 'Input_008.jpg', 'Input_083.jpg', 'Input_073.jpg', 'Input_062.jpg', 'Input_014.jpg', 'Input_082.jpg', 'Input_004.jpg', 'Input_075.jpg', 'Input_019.jpg', 'Input_002.jpg', 'Input_057.jpg', 'Input_030.jpg', 'Input_038.jpg', 'Input_021.jpg', 'Input_077.jpg', 'Input_024.jpg', 'Input_064.jpg', 'Input_051.jpg', 'Input_080.jpg', 'Input_013.jpg', 'Input_058.jpg', 'Input_059.jpg', 'Input_044.jpg', 'Input_043.jpg', 'Input_039.jpg', 'Input_016.jpg', 'Input_052.jpg', 'Input_061.jpg', 'Input_023.jpg', 'Input_066.jpg', 'Input_007.jpg', 'Input_017.jpg', 'Input_068.jpg', 'Input_027.jpg', 'Input_054.jpg', 'Input_026.jpg', 'Input_001.jpg', 'Input_040.jpg', 'Input_067.jpg', 'Input_022.jpg', 'Input_006.jpg', 'Input_036.jpg', 'Input_078.jpg', 'Input_045.jpg', 'Input_071.jpg', 'Input_053.jpg', 'Input_029.jpg', 'Input_065.jpg', 'Input_037.jpg', 'Input_035.jpg', 'Input_041.jpg', 'Input_025.jpg', 'Input_056.jpg', 'Input_009.jpg', 'Input_012.jpg']\n"
     ]
    }
   ],
   "source": [
    "file_list = os.listdir(input_folder_path)\n",
    "print(file_list)"
   ]
  },
  {
   "cell_type": "code",
   "execution_count": 10,
   "metadata": {
    "executionInfo": {
     "elapsed": 13,
     "status": "ok",
     "timestamp": 1739277366273,
     "user": {
      "displayName": "Arin Mukhopadhyay",
      "userId": "03266516936147208056"
     },
     "user_tz": -330
    },
    "id": "WyrSt7d87sB3"
   },
   "outputs": [],
   "source": [
    "output_folder_path = '/home/tan90/SDP/Output'"
   ]
  },
  {
   "cell_type": "code",
   "execution_count": 11,
   "metadata": {
    "executionInfo": {
     "elapsed": 30,
     "status": "ok",
     "timestamp": 1739277366305,
     "user": {
      "displayName": "Arin Mukhopadhyay",
      "userId": "03266516936147208056"
     },
     "user_tz": -330
    },
    "id": "66qUG4Tp8AkK"
   },
   "outputs": [],
   "source": [
    "# Create output folder if it doesn't exist\n",
    "os.makedirs(output_folder_path, exist_ok=True)"
   ]
  },
  {
   "cell_type": "code",
   "execution_count": null,
   "metadata": {
    "colab": {
     "base_uri": "https://localhost:8080/"
    },
    "id": "XR1Jza7o8GuP",
    "outputId": "74729b97-c701-4ce0-ac72-cf162cb70ac5"
   },
   "outputs": [],
   "source": [
    "def folder_classify(file_list, input_folder_path, output_folder_path):\n",
    "  for filename in file_list:\n",
    "    if filename.endswith(\".jpg\"):  # Process only Image files\n",
    "      input_file_path = os.path.join(input_folder_path, filename)\n",
    "      output_file_path = os.path.join(output_folder_path, filename)\n",
    "\n",
    "      predictions = predict_image(input_file_path)\n",
    "      keyboards_data = extract_keyboard_and_detect_edges(input_file_path, predictions)\n",
    "      draw_keyboard_bounding_box_on_image(input_file_path, keyboards_data, output_file_path)"
   ]
  },
  {
   "cell_type": "code",
   "execution_count": null,
   "metadata": {},
   "outputs": [],
   "source": [
    "def file_classify(filename, input_folder_path, output_folder_path):\n",
    "    if filename.endswith(\".jpg\"):  # Process only Image files\n",
    "      input_file_path = os.path.join(input_folder_path, filename)\n",
    "      output_file_path = os.path.join(output_folder_path, filename)\n",
    "\n",
    "      predictions = predict_image(input_file_path)\n",
    "      keyboards_data = extract_keyboard_and_detect_edges(input_file_path, predictions)\n",
    "      draw_keyboard_bounding_box_on_image(input_file_path, keyboards_data, output_file_path)"
   ]
  },
  {
   "cell_type": "code",
   "execution_count": null,
   "metadata": {},
   "outputs": [
    {
     "name": "stdout",
     "output_type": "stream",
     "text": [
      "{'xmin': 720, 'ymin': 1715, 'xmax': 2625, 'ymax': 2225}\n",
      "Saved keyboard bounding box image to /home/tan90/SDP/Images/Input_001.jpg\n"
     ]
    }
   ],
   "source": [
    "file_classify(\"Input_002.jpg\", input_folder_path, output_folder_path)"
   ]
  }
 ],
 "metadata": {
  "accelerator": "GPU",
  "colab": {
   "authorship_tag": "ABX9TyMmcnWEuk3zXhnGdl0P7YQo",
   "gpuType": "T4",
   "provenance": []
  },
  "kernelspec": {
   "display_name": "env",
   "language": "python",
   "name": "python3"
  },
  "language_info": {
   "codemirror_mode": {
    "name": "ipython",
    "version": 3
   },
   "file_extension": ".py",
   "mimetype": "text/x-python",
   "name": "python",
   "nbconvert_exporter": "python",
   "pygments_lexer": "ipython3",
   "version": "3.12.3"
  }
 },
 "nbformat": 4,
 "nbformat_minor": 0
}
